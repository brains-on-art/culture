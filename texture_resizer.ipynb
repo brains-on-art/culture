{
 "cells": [
  {
   "cell_type": "code",
   "execution_count": 1,
   "metadata": {
    "collapsed": true
   },
   "outputs": [],
   "source": [
    "import os\n",
    "import numpy as np\n",
    "from PIL import Image"
   ]
  },
  {
   "cell_type": "code",
   "execution_count": 2,
   "metadata": {
    "collapsed": false
   },
   "outputs": [],
   "source": [
    "def square(image):\n",
    "    \"\"\"Takes an image and resizes the canvas to a smallest square containing the\n",
    "       original image. The old image is centered on the new canvas. Returns a new\n",
    "       image.\n",
    "    \"\"\"\n",
    "    old_width, old_height = image.size\n",
    "    \n",
    "    # Take the larger side as the new side length\n",
    "    new_size = max(image.size)\n",
    "\n",
    "    # Center the image\n",
    "    x = int(np.floor((new_size - old_width) / 2))\n",
    "    y = int(np.floor((new_size - old_height) / 2))\n",
    "\n",
    "    # New background is transparent black\n",
    "    new_background = (0, 0, 0, 0)\n",
    "    \n",
    "    # Create a new image with square dimensions and paste the old image in the center.\n",
    "    new_image = Image.new(image.mode, (new_size, new_size), new_background)\n",
    "    new_image.paste(image, (x, y, x + old_width, y + old_height))\n",
    "    return new_image\n"
   ]
  },
  {
   "cell_type": "code",
   "execution_count": 3,
   "metadata": {
    "collapsed": false
   },
   "outputs": [
    {
     "name": "stdout",
     "output_type": "stream",
     "text": [
      "background.png\n",
      "halo1.png\n",
      "halo2.png\n",
      "meduusa1.png\n",
      "meduusa2.png\n",
      "meduusa3.png\n",
      "molli1.png\n",
      "molli2.png\n",
      "molli3.png\n",
      "plurt1.png\n",
      "plurt2.png\n"
     ]
    }
   ],
   "source": [
    "input_directory = './textures/'\n",
    "output_directory = './128x128/'\n",
    "\n",
    "# Make output directory if it doesn't exist\n",
    "if not os.path.exists(output_directory):\n",
    "    os.mkdir(output_directory)\n",
    "    \n",
    "# Get all PNG files\n",
    "for root, dirs, files in os.walk(input_directory):\n",
    "    png_files = sorted([x for x in files if '.png' in x])\n",
    "\n",
    "# Square the images, resize them to 128x128 and save in the output directory\n",
    "for png_file in png_files:\n",
    "    print(png_file)\n",
    "    image = Image.open(os.path.join(input_directory, png_file))\n",
    "    new_image = square(image).resize((128, 128), Image.LANCZOS)\n",
    "    new_image.save(os.path.join(output_directory, png_file))"
   ]
  }
 ],
 "metadata": {
  "kernelspec": {
   "display_name": "Python 3",
   "language": "python",
   "name": "python3"
  },
  "language_info": {
   "codemirror_mode": {
    "name": "ipython",
    "version": 3
   },
   "file_extension": ".py",
   "mimetype": "text/x-python",
   "name": "python",
   "nbconvert_exporter": "python",
   "pygments_lexer": "ipython3",
   "version": "3.5.0"
  }
 },
 "nbformat": 4,
 "nbformat_minor": 0
}
